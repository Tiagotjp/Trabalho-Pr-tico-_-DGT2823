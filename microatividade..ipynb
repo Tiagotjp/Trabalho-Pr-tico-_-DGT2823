{
 "cells": [
  {
   "cell_type": "code",
   "execution_count": 21,
   "metadata": {},
   "outputs": [],
   "source": [
    "#Microatividade 1: Descrever como ler um arquivo\n",
    "#CSV usando a biblioteca Pandas (Python)"
   ]
  },
  {
   "cell_type": "code",
   "execution_count": null,
   "metadata": {},
   "outputs": [],
   "source": [
    "import pandas as pd"
   ]
  },
  {
   "cell_type": "code",
   "execution_count": 6,
   "metadata": {},
   "outputs": [],
   "source": [
    "# Leitura do arquivo CSV com separador \";\"\n",
    "df = pd.read_csv('picoweb.csv', sep=';', engine='python', encoding='utf-8')\n",
    "#Exibição dos dados \n",
    "print(df) "
   ]
  },
  {
   "cell_type": "code",
   "execution_count": null,
   "metadata": {},
   "outputs": [],
   "source": [
    "#Microatividade 2: Descrever como criar um\n",
    "#subconjunto de dados a partir de um conjunto\n",
    "#existente usando a biblioteca Pandas (Python)"
   ]
  },
  {
   "cell_type": "code",
   "execution_count": 17,
   "metadata": {},
   "outputs": [
    {
     "name": "stdout",
     "output_type": "stream",
     "text": [
      "            Date  Pulse  Calories\n",
      "0   '2020/12/01'    110    4091.0\n",
      "1   '2020/12/02'    117    4790.0\n",
      "2   '2020/12/03'    103    3400.0\n",
      "3   '2020/12/04'    109    2824.0\n",
      "4   '2020/12/05'    117    4060.0\n",
      "5   '2020/12/06'    102    3000.0\n",
      "6   '2020/12/07'    110    3740.0\n",
      "7   '2020/12/08'    104    2533.0\n",
      "8   '2020/12/09'    109    1951.0\n",
      "9   '2020/12/10'     98    2690.0\n",
      "10  '2020/12/11'    103    3293.0\n",
      "11  '2020/12/12'    100    2507.0\n",
      "12  '2020/12/12'    100    2507.0\n",
      "13  '2020/12/13'    106    3453.0\n",
      "14  '2020/12/14'    104    3793.0\n",
      "15  '2020/12/15'     98    2750.0\n",
      "16  '2020/12/16'     98    2152.0\n",
      "17  '2020/12/17'    100    3000.0\n",
      "18  '2020/12/18'     90       NaN\n",
      "19  '2020/12/19'    103    3230.0\n",
      "20  '2020/12/20'     97    2430.0\n",
      "21  '2020/12/21'    108    3642.0\n",
      "22           NaN    100    2820.0\n",
      "23  '2020/12/23'    130    3000.0\n",
      "24  '2020/12/24'    105    2460.0\n",
      "25  '2020/12/25'    102    3345.0\n",
      "26      20201226    100    2500.0\n",
      "27  '2020/12/27'     92    2410.0\n",
      "28  '2020/12/28'    103       NaN\n",
      "29  '2020/12/29'    100    2800.0\n",
      "30  '2020/12/30'    102    3803.0\n",
      "31  '2020/12/31'     92    2430.0\n"
     ]
    }
   ],
   "source": [
    "# Criar subconjunto com 3 colunas \n",
    "sub_df = df[['Date', 'Pulse', 'Calories']] \n",
    "#Exibição do subconjunto \n",
    "print(sub_df)"
   ]
  },
  {
   "cell_type": "code",
   "execution_count": null,
   "metadata": {},
   "outputs": [],
   "source": [
    "#Microatividade 3: Descrever como configurar o\n",
    "#número máximo de linhas a serem exibidas na\n",
    "#visualização de um conjunto de dados usando a\n",
    "#biblioteca Pandas (Python)"
   ]
  },
  {
   "cell_type": "code",
   "execution_count": 13,
   "metadata": {},
   "outputs": [
    {
     "name": "stdout",
     "output_type": "stream",
     "text": [
      "    ID  Duration          Date  Pulse  Maxpulse  Calories\n",
      "0    0        60  '2020/12/01'    110       130    4091.0\n",
      "1    1        60  '2020/12/02'    117       145    4790.0\n",
      "2    2        60  '2020/12/03'    103       135    3400.0\n",
      "3    3        45  '2020/12/04'    109       175    2824.0\n",
      "4    4        45  '2020/12/05'    117       148    4060.0\n",
      "5    5        60  '2020/12/06'    102       127    3000.0\n",
      "6    6        60  '2020/12/07'    110       136    3740.0\n",
      "7    7       450  '2020/12/08'    104       134    2533.0\n",
      "8    8        30  '2020/12/09'    109       133    1951.0\n",
      "9    9        60  '2020/12/10'     98       124    2690.0\n",
      "10  10        60  '2020/12/11'    103       147    3293.0\n",
      "11  11        60  '2020/12/12'    100       120    2507.0\n",
      "12  12        60  '2020/12/12'    100       120    2507.0\n",
      "13  13        60  '2020/12/13'    106       128    3453.0\n",
      "14  14        60  '2020/12/14'    104       132    3793.0\n",
      "15  15        60  '2020/12/15'     98       123    2750.0\n",
      "16  16        60  '2020/12/16'     98       120    2152.0\n",
      "17  17        60  '2020/12/17'    100       120    3000.0\n",
      "18  18        45  '2020/12/18'     90       112       NaN\n",
      "19  19        60  '2020/12/19'    103       123    3230.0\n",
      "20  20        45  '2020/12/20'     97       125    2430.0\n",
      "21  21        60  '2020/12/21'    108       131    3642.0\n",
      "22  22        45           NaN    100       119    2820.0\n",
      "23  23        60  '2020/12/23'    130       101    3000.0\n",
      "24  24        45  '2020/12/24'    105       132    2460.0\n",
      "25  25        60  '2020/12/25'    102       126    3345.0\n",
      "26  26        60      20201226    100       120    2500.0\n",
      "27  27        60  '2020/12/27'     92       118    2410.0\n",
      "28  28        60  '2020/12/28'    103       132       NaN\n",
      "29  29        60  '2020/12/29'    100       132    2800.0\n",
      "30  30        60  '2020/12/30'    102       129    3803.0\n",
      "31  31        60  '2020/12/31'     92       115    2430.0\n"
     ]
    }
   ],
   "source": [
    "# Configurar para exibir até 9999 linhas\n",
    "pd.set_option('display.max_rows', 9999)\n",
    "#Exibir todas as linhas do DataFrame\n",
    "print(df.to_string())"
   ]
  },
  {
   "cell_type": "code",
   "execution_count": null,
   "metadata": {},
   "outputs": [],
   "source": [
    "#Microatividade 4: Descrever como exibir as\n",
    "#primeiras e últimas “N” linhas de um conjunto de\n",
    "#dados usando a biblioteca Pandas (Python)"
   ]
  },
  {
   "cell_type": "code",
   "execution_count": 20,
   "metadata": {},
   "outputs": [
    {
     "name": "stdout",
     "output_type": "stream",
     "text": [
      "Imprimir as primeiras 10 linhas\n",
      "   ID  Duration          Date  Pulse  Maxpulse  Calories\n",
      "0   0        60  '2020/12/01'    110       130    4091.0\n",
      "1   1        60  '2020/12/02'    117       145    4790.0\n",
      "2   2        60  '2020/12/03'    103       135    3400.0\n",
      "3   3        45  '2020/12/04'    109       175    2824.0\n",
      "4   4        45  '2020/12/05'    117       148    4060.0\n",
      "5   5        60  '2020/12/06'    102       127    3000.0\n",
      "6   6        60  '2020/12/07'    110       136    3740.0\n",
      "7   7       450  '2020/12/08'    104       134    2533.0\n",
      "8   8        30  '2020/12/09'    109       133    1951.0\n",
      "9   9        60  '2020/12/10'     98       124    2690.0\n"
     ]
    }
   ],
   "source": [
    "print(\"Imprimir as primeiras 10 linhas\")\n",
    "print(df.head(10)) "
   ]
  },
  {
   "cell_type": "code",
   "execution_count": 19,
   "metadata": {},
   "outputs": [
    {
     "name": "stdout",
     "output_type": "stream",
     "text": [
      "Imprimir as últimas 10 linhas\n",
      "    ID  Duration          Date  Pulse  Maxpulse  Calories\n",
      "22  22        45           NaN    100       119    2820.0\n",
      "23  23        60  '2020/12/23'    130       101    3000.0\n",
      "24  24        45  '2020/12/24'    105       132    2460.0\n",
      "25  25        60  '2020/12/25'    102       126    3345.0\n",
      "26  26        60      20201226    100       120    2500.0\n",
      "27  27        60  '2020/12/27'     92       118    2410.0\n",
      "28  28        60  '2020/12/28'    103       132       NaN\n",
      "29  29        60  '2020/12/29'    100       132    2800.0\n",
      "30  30        60  '2020/12/30'    102       129    3803.0\n",
      "31  31        60  '2020/12/31'     92       115    2430.0\n"
     ]
    }
   ],
   "source": [
    "print(\"Imprimir as últimas 10 linhas\")\n",
    "print(df.tail(10))"
   ]
  },
  {
   "cell_type": "code",
   "execution_count": null,
   "metadata": {},
   "outputs": [],
   "source": [
    "#Microatividade 5: Descrever como exibir\n",
    "#informações gerais sobre as colunas, linhas e dados\n",
    "#de um conjunto de dados usando a biblioteca\n",
    "#Pandas (Python)"
   ]
  },
  {
   "cell_type": "code",
   "execution_count": 16,
   "metadata": {},
   "outputs": [
    {
     "name": "stdout",
     "output_type": "stream",
     "text": [
      "Informações Gerais Sobre o Conjunto de Dados: \n",
      "<class 'pandas.core.frame.DataFrame'>\n",
      "RangeIndex: 32 entries, 0 to 31\n",
      "Data columns (total 6 columns):\n",
      " #   Column    Non-Null Count  Dtype  \n",
      "---  ------    --------------  -----  \n",
      " 0   ID        32 non-null     int64  \n",
      " 1   Duration  32 non-null     int64  \n",
      " 2   Date      31 non-null     object \n",
      " 3   Pulse     32 non-null     int64  \n",
      " 4   Maxpulse  32 non-null     int64  \n",
      " 5   Calories  30 non-null     float64\n",
      "dtypes: float64(1), int64(4), object(1)\n",
      "memory usage: 1.6+ KB\n"
     ]
    }
   ],
   "source": [
    "print(\"Informações Gerais Sobre o Conjunto de Dados: \")\n",
    "# Exibir informações gerais sobre o DataFrame\n",
    "df.info()"
   ]
  }
 ],
 "metadata": {
  "kernelspec": {
   "display_name": "Python 3 (ipykernel)",
   "language": "python",
   "name": "python3"
  },
  "language_info": {
   "codemirror_mode": {
    "name": "ipython",
    "version": 3
   },
   "file_extension": ".py",
   "mimetype": "text/x-python",
   "name": "python",
   "nbconvert_exporter": "python",
   "pygments_lexer": "ipython3",
   "version": "3.12.6"
  }
 },
 "nbformat": 4,
 "nbformat_minor": 4
}
